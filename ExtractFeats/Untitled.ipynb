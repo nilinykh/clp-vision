{
 "cells": [
  {
   "cell_type": "code",
   "execution_count": 3,
   "metadata": {},
   "outputs": [],
   "source": [
    "with open('./extract.log', 'r') as f1:\n",
    "    logs = f1.readlines()"
   ]
  },
  {
   "cell_type": "code",
   "execution_count": 9,
   "metadata": {},
   "outputs": [],
   "source": [
    "bw = []\n",
    "\n",
    "for item in logs:\n",
    "    if item.startswith('skipping over this image'):\n",
    "        image_bw = item.split('visual_genome,')[1].split(').')[0]\n",
    "        #print(image_bw)\n",
    "        bw.append(image_bw)\n",
    "\n",
    "bw = set(bw)"
   ]
  },
  {
   "cell_type": "code",
   "execution_count": 12,
   "metadata": {},
   "outputs": [],
   "source": [
    "#with open('./bw_vg_images.txt', 'w') as f2:\n",
    "#    for item in bw:\n",
    "#        f2.write(item)\n",
    "#        f2.write('\\n')"
   ]
  },
  {
   "cell_type": "code",
   "execution_count": 25,
   "metadata": {},
   "outputs": [],
   "source": [
    "negative_bb = []\n",
    "\n",
    "for item in logs:\n",
    "    if item.startswith('skipping over this image') and 'Negative bb!' in item:\n",
    "        negative_image_bb = item.split('visual_genome,')[1].split(').')[0]\n",
    "        negative_bb.append(negative_image_bb)\n",
    "\n",
    "negative_bb = set(negative_bb)"
   ]
  },
  {
   "cell_type": "code",
   "execution_count": 19,
   "metadata": {},
   "outputs": [],
   "source": [
    "#with open('./negbb_vg_images.txt', 'w') as f2:\n",
    "#    # at least one negative bb was found for this image\n",
    "#    for item in negative_bb:\n",
    "#        f2.write(item)\n",
    "#        f2.write('\\n')"
   ]
  },
  {
   "cell_type": "code",
   "execution_count": 21,
   "metadata": {},
   "outputs": [],
   "source": [
    "# check bbs for objects\n",
    "\n",
    "import json\n",
    "\n",
    "with open('/home/xilini/vis-data/visualgenome-v1-4/jsons/objects.json', 'r') as f3:\n",
    "    vg_objects = json.load(f3)"
   ]
  },
  {
   "cell_type": "code",
   "execution_count": 32,
   "metadata": {},
   "outputs": [
    {
     "name": "stdout",
     "output_type": "stream",
     "text": [
      "{'image_id': 2315749, 'objects': [{'synsets': [], 'h': 0, 'object_id': 4495300, 'merged_object_ids': [], 'names': ['animal'], 'w': 0, 'y': 0, 'x': 0}, {'synsets': [], 'h': 0, 'object_id': 4245791, 'merged_object_ids': [], 'names': ['arm'], 'w': 0, 'y': 0, 'x': 0}, {'synsets': [], 'h': 0, 'object_id': 4245793, 'merged_object_ids': [], 'names': ['arm'], 'w': 0, 'y': 0, 'x': 0}, {'synsets': [], 'h': 0, 'object_id': 4245803, 'merged_object_ids': [], 'names': ['arm'], 'w': 0, 'y': 0, 'x': 0}, {'synsets': [], 'h': 0, 'object_id': 4245805, 'merged_object_ids': [], 'names': ['back'], 'w': 0, 'y': 0, 'x': 0}, {'synsets': [], 'h': 0, 'object_id': 4495313, 'merged_object_ids': [], 'names': ['bear'], 'w': 0, 'y': 0, 'x': 0}, {'synsets': [], 'h': 0, 'object_id': 4495314, 'merged_object_ids': [], 'names': ['bear'], 'w': 0, 'y': 0, 'x': 0}, {'synsets': [], 'h': 0, 'object_id': 4495304, 'merged_object_ids': [], 'names': ['bear'], 'w': 0, 'y': 0, 'x': 0}, {'synsets': [], 'h': 0, 'object_id': 4495308, 'merged_object_ids': [], 'names': ['bear'], 'w': 0, 'y': 0, 'x': 0}, {'synsets': [], 'h': 0, 'object_id': 4495302, 'merged_object_ids': [], 'names': ['bear'], 'w': 0, 'y': 0, 'x': 0}, {'synsets': [], 'h': 0, 'object_id': 4509680, 'merged_object_ids': [], 'names': ['bear'], 'w': 0, 'y': 0, 'x': 0}, {'synsets': [], 'h': 0, 'object_id': 4245795, 'merged_object_ids': [], 'names': ['bear'], 'w': 0, 'y': 0, 'x': 0}, {'synsets': [], 'h': 0, 'object_id': 4495329, 'merged_object_ids': [], 'names': ['bear'], 'w': 0, 'y': 0, 'x': 0}, {'synsets': [], 'h': 0, 'object_id': 4495309, 'merged_object_ids': [], 'names': ['bear'], 'w': 0, 'y': 0, 'x': 0}, {'synsets': [], 'h': 0, 'object_id': 4495332, 'merged_object_ids': [], 'names': ['bear'], 'w': 0, 'y': 0, 'x': 0}, {'synsets': [], 'h': 0, 'object_id': 4495325, 'merged_object_ids': [], 'names': ['bear'], 'w': 0, 'y': 0, 'x': 0}, {'synsets': [], 'h': 0, 'object_id': 4495306, 'merged_object_ids': [], 'names': ['bonnet'], 'w': 0, 'y': 0, 'x': 0}, {'synsets': [], 'h': 0, 'object_id': 4495326, 'merged_object_ids': [], 'names': ['chair'], 'w': 0, 'y': 0, 'x': 0}, {'synsets': [], 'h': 0, 'object_id': 4245806, 'merged_object_ids': [], 'names': ['chair'], 'w': 0, 'y': 0, 'x': 0}, {'synsets': [], 'h': 0, 'object_id': 4245771, 'merged_object_ids': [], 'names': ['chair'], 'w': 0, 'y': 0, 'x': 0}, {'synsets': [], 'h': 0, 'object_id': 4245767, 'merged_object_ids': [], 'names': ['dress'], 'w': 0, 'y': 0, 'x': 0}, {'synsets': [], 'h': 0, 'object_id': 4245761, 'merged_object_ids': [], 'names': ['dress'], 'w': 0, 'y': 0, 'x': 0}, {'synsets': [], 'h': 0, 'object_id': 4495335, 'merged_object_ids': [], 'names': ['dress'], 'w': 0, 'y': 0, 'x': 0}, {'synsets': [], 'h': 0, 'object_id': 4245760, 'merged_object_ids': [], 'names': ['dress'], 'w': 0, 'y': 0, 'x': 0}, {'synsets': [], 'h': 0, 'object_id': 4509681, 'merged_object_ids': [], 'names': ['dress'], 'w': 0, 'y': 0, 'x': 0}, {'synsets': [], 'h': 0, 'object_id': 4245763, 'merged_object_ids': [], 'names': ['dress'], 'w': 0, 'y': 0, 'x': 0}, {'synsets': [], 'h': 0, 'object_id': 4245759, 'merged_object_ids': [], 'names': ['dress'], 'w': 0, 'y': 0, 'x': 0}, {'synsets': [], 'h': 0, 'object_id': 4495319, 'merged_object_ids': [], 'names': ['eye'], 'w': 0, 'y': 0, 'x': 0}, {'synsets': [], 'h': 0, 'object_id': 4245773, 'merged_object_ids': [], 'names': ['eye'], 'w': 0, 'y': 0, 'x': 0}, {'synsets': [], 'h': 0, 'object_id': 4245797, 'merged_object_ids': [], 'names': ['eye'], 'w': 0, 'y': 0, 'x': 0}, {'synsets': [], 'h': 0, 'object_id': 4495322, 'merged_object_ids': [], 'names': ['eye'], 'w': 0, 'y': 0, 'x': 0}, {'synsets': [], 'h': 0, 'object_id': 4245769, 'merged_object_ids': [], 'names': ['eye'], 'w': 0, 'y': 0, 'x': 0}, {'synsets': [], 'h': 0, 'object_id': 4245776, 'merged_object_ids': [], 'names': ['eye'], 'w': 0, 'y': 0, 'x': 0}, {'synsets': [], 'h': 0, 'object_id': 4495321, 'merged_object_ids': [], 'names': ['face'], 'w': 0, 'y': 0, 'x': 0}, {'synsets': [], 'h': 0, 'object_id': 4495324, 'merged_object_ids': [], 'names': ['face'], 'w': 0, 'y': 0, 'x': 0}, {'synsets': [], 'h': 0, 'object_id': 4495320, 'merged_object_ids': [], 'names': ['face'], 'w': 0, 'y': 0, 'x': 0}, {'synsets': [], 'h': 0, 'object_id': 4245766, 'merged_object_ids': [], 'names': ['flower'], 'w': 0, 'y': 0, 'x': 0}, {'synsets': [], 'h': 0, 'object_id': 4245786, 'merged_object_ids': [], 'names': ['flower'], 'w': 0, 'y': 0, 'x': 0}, {'synsets': [], 'h': 0, 'object_id': 4245787, 'merged_object_ids': [], 'names': ['flower'], 'w': 0, 'y': 0, 'x': 0}, {'synsets': [], 'h': 0, 'object_id': 4245785, 'merged_object_ids': [], 'names': ['flower'], 'w': 0, 'y': 0, 'x': 0}, {'synsets': [], 'h': 0, 'object_id': 4495305, 'merged_object_ids': [], 'names': ['flower'], 'w': 0, 'y': 0, 'x': 0}, {'synsets': [], 'h': 0, 'object_id': 4245758, 'merged_object_ids': [], 'names': ['flower'], 'w': 0, 'y': 0, 'x': 0}, {'synsets': [], 'h': 0, 'object_id': 4245800, 'merged_object_ids': [], 'names': ['hat'], 'w': 0, 'y': 0, 'x': 0}, {'synsets': [], 'h': 0, 'object_id': 4495336, 'merged_object_ids': [], 'names': ['hat'], 'w': 0, 'y': 0, 'x': 0}, {'synsets': [], 'h': 0, 'object_id': 4495327, 'merged_object_ids': [], 'names': ['hat'], 'w': 0, 'y': 0, 'x': 0}, {'synsets': [], 'h': 0, 'object_id': 4245772, 'merged_object_ids': [], 'names': ['hat'], 'w': 0, 'y': 0, 'x': 0}, {'synsets': [], 'h': 0, 'object_id': 4245765, 'merged_object_ids': [], 'names': ['hat'], 'w': 0, 'y': 0, 'x': 0}, {'synsets': [], 'h': 0, 'object_id': 4495307, 'merged_object_ids': [], 'names': ['head'], 'w': 0, 'y': 0, 'x': 0}, {'synsets': [], 'h': 0, 'object_id': 4245781, 'merged_object_ids': [], 'names': ['left arm'], 'w': 0, 'y': 0, 'x': 0}, {'synsets': [], 'h': 0, 'object_id': 4495312, 'merged_object_ids': [], 'names': ['leg'], 'w': 0, 'y': 0, 'x': 0}, {'synsets': [], 'h': 0, 'object_id': 4509648, 'merged_object_ids': [], 'names': ['leg'], 'w': 0, 'y': 0, 'x': 0}, {'synsets': [], 'h': 0, 'object_id': 4495315, 'merged_object_ids': [], 'names': ['leg'], 'w': 0, 'y': 0, 'x': 0}, {'synsets': [], 'h': 0, 'object_id': 4245770, 'merged_object_ids': [], 'names': ['legs'], 'w': 0, 'y': 0, 'x': 0}, {'synsets': [], 'h': 0, 'object_id': 4245788, 'merged_object_ids': [], 'names': ['neck'], 'w': 0, 'y': 0, 'x': 0}, {'synsets': [], 'h': 0, 'object_id': 4495333, 'merged_object_ids': [], 'names': ['nose'], 'w': 0, 'y': 0, 'x': 0}, {'synsets': [], 'h': 0, 'object_id': 4245777, 'merged_object_ids': [], 'names': ['nose'], 'w': 0, 'y': 0, 'x': 0}, {'synsets': [], 'h': 0, 'object_id': 4245796, 'merged_object_ids': [], 'names': ['nose'], 'w': 0, 'y': 0, 'x': 0}, {'synsets': [], 'h': 0, 'object_id': 4495323, 'merged_object_ids': [], 'names': ['nose'], 'w': 0, 'y': 0, 'x': 0}, {'synsets': [], 'h': 0, 'object_id': 4495301, 'merged_object_ids': [], 'names': ['nose'], 'w': 0, 'y': 0, 'x': 0}, {'synsets': [], 'h': 0, 'object_id': 4245768, 'merged_object_ids': [], 'names': ['nose'], 'w': 0, 'y': 0, 'x': 0}, {'synsets': [], 'h': 0, 'object_id': 4245801, 'merged_object_ids': [], 'names': ['ribbon'], 'w': 0, 'y': 0, 'x': 0}, {'synsets': [], 'h': 0, 'object_id': 4245780, 'merged_object_ids': [], 'names': ['right arm'], 'w': 0, 'y': 0, 'x': 0}, {'synsets': [], 'h': 0, 'object_id': 4245790, 'merged_object_ids': [], 'names': ['rose pendant'], 'w': 0, 'y': 0, 'x': 0}, {'synsets': [], 'h': 0, 'object_id': 4245802, 'merged_object_ids': [], 'names': ['seam'], 'w': 0, 'y': 0, 'x': 0}, {'synsets': [], 'h': 0, 'object_id': 4245778, 'merged_object_ids': [], 'names': ['stuffed animal'], 'w': 0, 'y': 0, 'x': 0}, {'synsets': [], 'h': 0, 'object_id': 4245764, 'merged_object_ids': [], 'names': ['teddy bear'], 'w': 0, 'y': 0, 'x': 0}], 'image_url': 'http://crowdfile.blob.core.chinacloudapi.cn/4615/2315749.jpg'}\n"
     ]
    }
   ],
   "source": [
    "for item in vg_objects:\n",
    "    if item['image_id'] == 2315749:\n",
    "        print(item)"
   ]
  },
  {
   "cell_type": "code",
   "execution_count": 31,
   "metadata": {},
   "outputs": [
    {
     "name": "stdout",
     "output_type": "stream",
     "text": [
      "Exception! But why? Skipping this whole batch..\n",
      "\n",
      "Exception! But why? Skipping this whole batch..\n",
      "\n",
      "Exception! But why? Skipping this whole batch..\n",
      "\n",
      "Exception! But why? Skipping this whole batch..\n",
      "\n",
      "Exception! But why? Skipping this whole batch..\n",
      "\n",
      "Exception! But why? Skipping this whole batch..\n",
      "\n",
      "Exception! But why? Skipping this whole batch..\n",
      "\n",
      "Exception! But why? Skipping this whole batch..\n",
      "\n",
      "Exception! But why? Skipping this whole batch..\n",
      "\n",
      "Exception! But why? Skipping this whole batch..\n",
      "\n",
      "Exception! But why? Skipping this whole batch..\n",
      "\n",
      "Exception! But why? Skipping this whole batch..\n",
      "\n",
      "Exception! But why? Skipping this whole batch..\n",
      "\n",
      "Exception! But why? Skipping this whole batch..\n",
      "\n",
      "Exception! But why? Skipping this whole batch..\n",
      "\n",
      "Exception! But why? Skipping this whole batch..\n",
      "\n",
      "Exception! But why? Skipping this whole batch..\n",
      "\n",
      "Exception! But why? Skipping this whole batch..\n",
      "\n",
      "Exception! But why? Skipping this whole batch..\n",
      "\n",
      "Exception! But why? Skipping this whole batch..\n",
      "\n",
      "Exception! But why? Skipping this whole batch..\n",
      "\n",
      "Exception! But why? Skipping this whole batch..\n",
      "\n",
      "Exception! But why? Skipping this whole batch..\n",
      "\n",
      "Exception! But why? Skipping this whole batch..\n",
      "\n",
      "Exception! But why? Skipping this whole batch..\n",
      "\n",
      "Exception! But why? Skipping this whole batch..\n",
      "\n",
      "Exception! But why? Skipping this whole batch..\n",
      "\n",
      "Exception! But why? Skipping this whole batch..\n",
      "\n",
      "Exception! But why? Skipping this whole batch..\n",
      "\n",
      "Exception! But why? Skipping this whole batch..\n",
      "\n",
      "Exception! But why? Skipping this whole batch..\n",
      "\n",
      "Exception! But why? Skipping this whole batch..\n",
      "\n",
      "Exception! But why? Skipping this whole batch..\n",
      "\n",
      "Exception! But why? Skipping this whole batch..\n",
      "\n",
      "Exception! But why? Skipping this whole batch..\n",
      "\n",
      "Exception! But why? Skipping this whole batch..\n",
      "\n",
      "Exception! But why? Skipping this whole batch..\n",
      "\n",
      "Exception! But why? Skipping this whole batch..\n",
      "\n",
      "Exception! But why? Skipping this whole batch..\n",
      "\n",
      "Exception! But why? Skipping this whole batch..\n",
      "\n",
      "Exception! But why? Skipping this whole batch..\n",
      "\n",
      "Exception! But why? Skipping this whole batch..\n",
      "\n",
      "Exception! But why? Skipping this whole batch..\n",
      "\n",
      "Exception! But why? Skipping this whole batch..\n",
      "\n",
      "Exception! But why? Skipping this whole batch..\n",
      "\n"
     ]
    }
   ],
   "source": [
    "skipped_batch = []\n",
    "\n",
    "for item in logs:\n",
    "    if 'Exception! But why?' in item:\n",
    "        print(item)\n",
    "        #corrupted_image_id = item.split('visual_genome,')[1].split(').')[0]\n",
    "        #corrupted.append(corrupted_image_id)\n",
    "\n",
    "skipped_batch = set(skipped_batch)"
   ]
  },
  {
   "cell_type": "code",
   "execution_count": 30,
   "metadata": {},
   "outputs": [
    {
     "data": {
      "text/plain": [
       "set()"
      ]
     },
     "execution_count": 30,
     "metadata": {},
     "output_type": "execute_result"
    }
   ],
   "source": [
    "corrupted"
   ]
  },
  {
   "cell_type": "code",
   "execution_count": null,
   "metadata": {},
   "outputs": [],
   "source": []
  }
 ],
 "metadata": {
  "kernelspec": {
   "display_name": "Python 3",
   "language": "python",
   "name": "python3"
  },
  "language_info": {
   "codemirror_mode": {
    "name": "ipython",
    "version": 3
   },
   "file_extension": ".py",
   "mimetype": "text/x-python",
   "name": "python",
   "nbconvert_exporter": "python",
   "pygments_lexer": "ipython3",
   "version": "3.7.9"
  }
 },
 "nbformat": 4,
 "nbformat_minor": 4
}
